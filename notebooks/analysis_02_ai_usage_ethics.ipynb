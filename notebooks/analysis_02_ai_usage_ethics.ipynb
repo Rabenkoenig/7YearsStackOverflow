{
 "cells": [
  {
   "cell_type": "markdown",
   "metadata": {},
   "source": [
    "## AI Usage\n",
    "\n",
    "This Notebook answeres the question:\n",
    "\n",
    "How does the usage of AI tools correlate with developers' concerns about AI's ethical implications and potential threats?"
   ]
  },
  {
   "cell_type": "code",
   "execution_count": null,
   "metadata": {},
   "outputs": [],
   "source": [
    "import numpy as np\n",
    "import pandas as pd\n",
    "import matplotlib.pyplot as plt\n",
    "import datetime\n",
    "\n",
    "\n",
    "df_schema= pd.read_csv('../data/raw/stack-overflow-developer-survey-2024/survey_results_schema.csv')\n",
    "df_public = pd.read_csv('../data/raw/stack-overflow-developer-survey-2024/survey_results_public.csv')\n",
    "\n",
    "df_schema.head()"
   ]
  }
 ],
 "metadata": {
  "kernelspec": {
   "display_name": "Python 3",
   "language": "python",
   "name": "python3"
  },
  "language_info": {
   "name": "python",
   "version": "3.10.0"
  }
 },
 "nbformat": 4,
 "nbformat_minor": 2
}
